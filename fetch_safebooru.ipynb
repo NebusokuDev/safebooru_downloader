{
  "nbformat": 4,
  "nbformat_minor": 0,
  "metadata": {
    "colab": {
      "provenance": []
    },
    "kernelspec": {
      "name": "python3",
      "display_name": "Python 3"
    },
    "language_info": {
      "name": "python"
    }
  },
  "cells": [
    {
      "cell_type": "code",
      "execution_count": null,
      "metadata": {
        "colab": {
          "base_uri": "https://localhost:8080/"
        },
        "id": "-7Se2Ql13XqQ",
        "outputId": "f2617ff4-da1b-47de-fd3a-c9a6610c9e6c"
      },
      "outputs": [
        {
          "output_type": "stream",
          "name": "stdout",
          "text": [
            "Drive already mounted at /content/drive; to attempt to forcibly remount, call drive.mount(\"/content/drive\", force_remount=True).\n"
          ]
        },
        {
          "output_type": "stream",
          "name": "stderr",
          "text": [
            "Downloading images:   1%|          | 1/100 [00:01<01:42,  1.03s/it]"
          ]
        },
        {
          "output_type": "stream",
          "name": "stdout",
          "text": [
            "Error downloading https://cdn.donmai.us/original/ff/f1/fff1d190332f7abc6c65dc409ea5d6f4.mp4: cannot identify image file <_io.BytesIO object at 0x78ac30fa0db0>\n"
          ]
        },
        {
          "output_type": "stream",
          "name": "stderr",
          "text": [
            "Downloading images:  76%|███████▌  | 76/100 [01:45<00:31,  1.32s/it]"
          ]
        },
        {
          "output_type": "stream",
          "name": "stdout",
          "text": [
            "Error downloading https://cdn.donmai.us/original/27/f0/27f0065da8fd95b405e1dd1a5b8a65b8.mp4: cannot identify image file <_io.BytesIO object at 0x78ac41244680>\n"
          ]
        },
        {
          "output_type": "stream",
          "name": "stderr",
          "text": [
            "Downloading images: 100%|██████████| 100/100 [02:19<00:00,  1.40s/it]"
          ]
        },
        {
          "output_type": "stream",
          "name": "stdout",
          "text": [
            "\n",
            "Downloaded 100 images.\n",
            "Metadata saved to /content/drive/MyDrive/Safebooru_Images/metadata.json\n"
          ]
        },
        {
          "output_type": "stream",
          "name": "stderr",
          "text": [
            "\n"
          ]
        }
      ],
      "source": [
        "import time\n",
        "from google.colab import drive\n",
        "import os\n",
        "import requests\n",
        "import json\n",
        "from PIL import Image\n",
        "from io import BytesIO\n",
        "from tqdm import tqdm\n",
        "\n",
        "# Google Driveをマウント\n",
        "drive.mount('/content/drive')\n",
        "\n",
        "# 保存先ディレクトリを設定\n",
        "save_dir = \"/content/drive/MyDrive/Safebooru_Images/\"\n",
        "metadata_file = os.path.join(save_dir, \"metadata.json\")  # メタデータ保存ファイル\n",
        "os.makedirs(save_dir, exist_ok=True)\n",
        "\n",
        "# Safebooru APIからデータを取得\n",
        "def fetch_safebooru_images(tags=\"\", limit=100, page=1):\n",
        "    \"\"\"\n",
        "    Safebooru APIから画像情報を取得\n",
        "    :param tags: 取得するタグ\n",
        "    :param limit: 1リクエストあたりの画像数 (最大100)\n",
        "    :param page: ページ番号\n",
        "    :return: 画像情報のリスト\n",
        "    \"\"\"\n",
        "    base_url = \"https://safebooru.donmai.us/posts.json\"\n",
        "    params = {\n",
        "        \"tags\": tags,\n",
        "        \"limit\": limit,\n",
        "        \"page\": page\n",
        "    }\n",
        "    response = requests.get(base_url, params=params)\n",
        "    if response.status_code == 200:\n",
        "        return response.json()\n",
        "    else:\n",
        "        print(f\"Failed to fetch data: {response.status_code}\")\n",
        "        return []\n",
        "\n",
        "# 画像をダウンロードして高さ1024pxにリサイズ、JPEG形式で保存\n",
        "def download_image_as_jpeg(url, save_path, target_height=1024):\n",
        "    \"\"\"\n",
        "    画像を指定したURLからダウンロードし、高さ1024pxにリサイズ、JPEG形式に変換して保存\n",
        "    :param url: 画像URL\n",
        "    :param save_path: 保存先のファイルパス\n",
        "    :param target_height: リサイズ後の高さ\n",
        "    \"\"\"\n",
        "    try:\n",
        "        response = requests.get(url)\n",
        "        if response.status_code == 200:\n",
        "            image = Image.open(BytesIO(response.content))\n",
        "            # アスペクト比を保持したまま高さを1024pxにリサイズ\n",
        "            width, height = image.size\n",
        "            target_width = int((target_height / height) * width)  # 新しい幅を計算\n",
        "            image_resized = image.resize((target_width, target_height), Image.LANCZOS)\n",
        "\n",
        "            # JPEG形式で保存\n",
        "            jpeg_path = os.path.splitext(save_path)[0] + \".jpg\"\n",
        "            image_resized.convert(\"RGB\").save(jpeg_path, \"JPEG\")\n",
        "        else:\n",
        "            print(f\"Failed to download {url}\")\n",
        "    except Exception as e:\n",
        "        print(f\"Error downloading {url}: {e}\")\n",
        "\n",
        "# 著作者情報を含む画像メタデータを保存\n",
        "def save_metadata(metadata, file_path):\n",
        "    \"\"\"\n",
        "    メタデータをJSONファイルに保存\n",
        "    :param metadata: 画像のメタデータリスト\n",
        "    :param file_path: 保存先のファイルパス\n",
        "    \"\"\"\n",
        "    with open(file_path, \"w\") as f:\n",
        "        json.dump(metadata, f, indent=4, ensure_ascii=False)\n",
        "\n",
        "# 画像を一括ダウンロード\n",
        "def download_safebooru_images(tags=\"\", max_images=500, delay=3):\n",
        "    \"\"\"\n",
        "    Safebooruから画像を一括取得してGoogle Driveに保存\n",
        "    :param tags: 取得する画像のタグ\n",
        "    :param max_images: 最大取得枚数\n",
        "    :param delay: 各リクエストの待機時間 (秒)\n",
        "    \"\"\"\n",
        "    metadata = []  # メタデータリスト\n",
        "    downloaded_count = 0\n",
        "    page = 1\n",
        "\n",
        "    # tqdmを使用したプログレスバー\n",
        "    with tqdm(total=max_images, desc=\"Downloading images\") as pbar:\n",
        "        while downloaded_count < max_images:\n",
        "            images = fetch_safebooru_images(tags=tags, limit=100, page=page)\n",
        "            if not images:\n",
        "                print(\"No more images to fetch.\")\n",
        "                break\n",
        "            for img in images:\n",
        "                if downloaded_count >= max_images:\n",
        "                    break\n",
        "                file_url = img.get(\"file_url\")\n",
        "                if file_url:\n",
        "                    file_name = os.path.basename(file_url)\n",
        "                    save_path = os.path.join(save_dir, file_name)\n",
        "\n",
        "                    # 画像のダウンロードとリサイズ、JPEG変換\n",
        "                    download_image_as_jpeg(file_url, save_path)\n",
        "\n",
        "                    # 著作者情報とメタデータを取得\n",
        "                    metadata.append({\n",
        "                        \"id\": img.get(\"id\"),\n",
        "                        \"file_name\": os.path.splitext(file_name)[0] + \".jpg\",  # 拡張子をJPEGに\n",
        "                        \"artist\": img.get(\"tag_string_artist\", \"Unknown\"),\n",
        "                        \"tags\": img.get(\"tag_string\"),\n",
        "                        \"source\": img.get(\"source\", \"N/A\"),\n",
        "                        \"url\": f\"https://safebooru.donmai.us/posts/{img.get('id')}\"\n",
        "                    })\n",
        "\n",
        "                    downloaded_count += 1\n",
        "                    pbar.update(1)  # プログレスバーを更新\n",
        "                    time.sleep(delay)  # 指定秒数待機\n",
        "            page += 1\n",
        "\n",
        "    # メタデータを保存\n",
        "    save_metadata(metadata, metadata_file)\n",
        "    print(f\"\\nDownloaded {downloaded_count} images.\")\n",
        "    print(f\"Metadata saved to {metadata_file}\")\n",
        "\n",
        "# タグを指定して画像を取得\n",
        "download_safebooru_images(tags=\"scenery\", max_images=100, delay=1)  # 各画像間5秒間隔\n"
      ]
    }
  ]
}